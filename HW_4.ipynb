{
 "cells": [
  {
   "cell_type": "code",
   "execution_count": 1,
   "metadata": {},
   "outputs": [],
   "source": [
    "# Author: Miguel Meireles\n",
    "# Date: 2020-01-29\n",
    "# CS301-006, Professor Watson\n",
    "# HW04 Solution\n",
    "# HW4 Description\n",
    "# https://github.com/CrazyMiguel/CS301\n",
    "# https://github.com/CrazyMiguel/CS301/blob/master/HW_4.ipynb\n",
    "# master"
   ]
  },
  {
   "cell_type": "code",
   "execution_count": 446,
   "metadata": {},
   "outputs": [],
   "source": [
    "import pandas as pd  \n",
    "import numpy as np"
   ]
  },
  {
   "cell_type": "code",
   "execution_count": 447,
   "metadata": {},
   "outputs": [],
   "source": [
    "def get_percent_nans(df, column_name):\n",
    "    specific = df[column_name]\n",
    "    whole=len(df)\n",
    "    nan_len=(len(df.loc[(specific.isna())]))\n",
    "    percentage= (nan_len/whole)*100\n",
    "    return(percentage)"
   ]
  },
  {
   "cell_type": "code",
   "execution_count": 448,
   "metadata": {},
   "outputs": [],
   "source": [
    "my_df=pd.read_csv('C:\\\\Users\\\\Meire\\\\Documents\\\\College\\\\4th year\\\\CS301\\\\CoronaVirus\\\\2019_nCoV_20200121_20200206.csv')"
   ]
  },
  {
   "cell_type": "code",
   "execution_count": 449,
   "metadata": {},
   "outputs": [
    {
     "name": "stdout",
     "output_type": "stream",
     "text": [
      "46.670218433670755\n"
     ]
    }
   ],
   "source": [
    "print (get_percent_nans(my_df,\"Recovered\"))"
   ]
  },
  {
   "cell_type": "code",
   "execution_count": 450,
   "metadata": {},
   "outputs": [
    {
     "name": "stdout",
     "output_type": "stream",
     "text": [
      "The Province/State column has 24.45% empty values\n",
      "The Country/Region column has 0.00% empty values\n",
      "The Last Update column has 0.00% empty values\n",
      "The Confirmed column has 1.60% empty values\n",
      "The Suspected column has 95.31% empty values\n",
      "The Recovered column has 46.67% empty values\n",
      "The Death column has 53.22% empty values\n"
     ]
    }
   ],
   "source": [
    "for col in my_df.columns:\n",
    "    #print (col, get_percent_nans(my_df,col))\n",
    "    per=get_percent_nans(my_df,col)\n",
    "    print('The {} column has {:.2f}% empty values'.format(col,per))"
   ]
  },
  {
   "cell_type": "markdown",
   "metadata": {},
   "source": [
    "Problem 2)"
   ]
  },
  {
   "cell_type": "code",
   "execution_count": 451,
   "metadata": {},
   "outputs": [
    {
     "name": "stdout",
     "output_type": "stream",
     "text": [
      "The Country/Region with the most amount of deaths is Mainland China\n"
     ]
    }
   ],
   "source": [
    "country_groups = my_df.groupby('Country/Region', as_index=False)[[\"Death\"]].sum()\n",
    "idx=country_groups[\"Death\"].idxmax()\n",
    "country=country_groups[\"Country/Region\"].iloc[idx]\n",
    "print ('The Country/Region with the most amount of deaths is {}'.format(country))"
   ]
  },
  {
   "cell_type": "markdown",
   "metadata": {},
   "source": [
    "Problem 3)"
   ]
  },
  {
   "cell_type": "code",
   "execution_count": 452,
   "metadata": {},
   "outputs": [
    {
     "name": "stdout",
     "output_type": "stream",
     "text": [
      "The Country/Region with the highest number of suspected cases is Hong Kong\n"
     ]
    }
   ],
   "source": [
    "country_groups = my_df.groupby('Country/Region', as_index=False)[[\"Suspected\"]].sum()\n",
    "idx=country_groups[\"Suspected\"].idxmax()\n",
    "country=country_groups[\"Country/Region\"].iloc[idx]\n",
    "print ('The Country/Region with the highest number of suspected cases is {}'.format(country))"
   ]
  },
  {
   "cell_type": "markdown",
   "metadata": {},
   "source": [
    "Problem 4)"
   ]
  },
  {
   "cell_type": "code",
   "execution_count": 453,
   "metadata": {},
   "outputs": [
    {
     "name": "stdout",
     "output_type": "stream",
     "text": [
      "The Country/Region with the second highest average number of recovered cases is Thailand\n"
     ]
    }
   ],
   "source": [
    "country_groups = my_df.groupby('Country/Region')[[\"Recovered\"]].mean()\n",
    "sort=country_groups.sort_values(\"Recovered\", ascending=False)\n",
    "sorted_idx=sort.reset_index()\n",
    "country=sorted_idx['Country/Region'].iloc[1]\n",
    "print ('The Country/Region with the second highest average number of recovered cases is {}'.format(country))"
   ]
  },
  {
   "cell_type": "markdown",
   "metadata": {},
   "source": [
    "Problem 5)"
   ]
  },
  {
   "cell_type": "code",
   "execution_count": 454,
   "metadata": {},
   "outputs": [],
   "source": [
    "Mapping = {'Asia':['Hong Kong','India','Japan','Macau','Mainland China','Malaysia','Nepal','Philippines','Singapore','South Korea','Sri Lanka','Taiwan','Thailand','United Arab Emirates','Vietnam'],'Europe':['Belgium','Finland','France','Germany','Italy','Russia','Spain','Sweden','UK'],'North America':['Canada','Mexico','United States'],'South America':['Brazil','Colombia'],'Africa':['Cambodia','Ivory Coast'],'Australia':['Australia'],'Antarctica':['']}"
   ]
  },
  {
   "cell_type": "markdown",
   "metadata": {},
   "source": [
    "Problem 6)"
   ]
  },
  {
   "cell_type": "code",
   "execution_count": 455,
   "metadata": {},
   "outputs": [],
   "source": [
    "def get_continent(country):\n",
    "    global Mapping\n",
    "    for key in Mapping:\n",
    "        for value in Mapping[key]:\n",
    "            if value==country:\n",
    "                return key"
   ]
  },
  {
   "cell_type": "code",
   "execution_count": 456,
   "metadata": {},
   "outputs": [
    {
     "name": "stdout",
     "output_type": "stream",
     "text": [
      "Europe\n"
     ]
    }
   ],
   "source": [
    "print(get_continent('UK'))"
   ]
  },
  {
   "cell_type": "markdown",
   "metadata": {},
   "source": [
    "Problem 7)"
   ]
  },
  {
   "cell_type": "code",
   "execution_count": 457,
   "metadata": {},
   "outputs": [
    {
     "name": "stdout",
     "output_type": "stream",
     "text": [
      "     Province/State  Country/Region   Last Update  Confirmed  Suspected  \\\n",
      "0             Hubei  Mainland China  2/5/20 16:43    16678.0        NaN   \n",
      "1         Guangdong  Mainland China  2/5/20 13:23      895.0        NaN   \n",
      "2          Zhejiang  Mainland China  2/5/20 15:13      895.0        NaN   \n",
      "3             Henan  Mainland China  2/5/20 15:03      764.0        NaN   \n",
      "4             Hunan  Mainland China  2/5/20 15:23      661.0        NaN   \n",
      "...             ...             ...           ...        ...        ...   \n",
      "1872   Heilongjiang  Mainland China     1/21/2020        NaN        1.0   \n",
      "1873            NaN           Japan     1/21/2020        1.0        NaN   \n",
      "1874            NaN        Thailand     1/21/2020        2.0        NaN   \n",
      "1875            NaN     South Korea     1/21/2020        1.0        NaN   \n",
      "1876     Washington   United States     1/21/2020        1.0        NaN   \n",
      "\n",
      "      Recovered  Death      Continent  \n",
      "0         538.0  479.0           Asia  \n",
      "1          49.0    0.0           Asia  \n",
      "2          78.0    0.0           Asia  \n",
      "3          47.0    2.0           Asia  \n",
      "4          54.0    0.0           Asia  \n",
      "...         ...    ...            ...  \n",
      "1872        NaN    NaN           Asia  \n",
      "1873        NaN    NaN           Asia  \n",
      "1874        NaN    NaN           Asia  \n",
      "1875        NaN    NaN           Asia  \n",
      "1876        NaN    NaN  North America  \n",
      "\n",
      "[1877 rows x 8 columns]\n"
     ]
    }
   ],
   "source": [
    "global Mapping\n",
    "my_df['Continent']=\"default\"\n",
    "for idx in my_df.index:\n",
    "    country=my_df.loc[idx, 'Country/Region']\n",
    "    my_df.loc[(my_df['Country/Region']==country), 'Continent'] = get_continent(country)\n",
    "print(my_df)"
   ]
  },
  {
   "cell_type": "markdown",
   "metadata": {},
   "source": [
    "Problem 8)"
   ]
  },
  {
   "cell_type": "code",
   "execution_count": 458,
   "metadata": {},
   "outputs": [
    {
     "name": "stdout",
     "output_type": "stream",
     "text": [
      "       Continent  Confirmed\n",
      "0           Asia   304934.0\n",
      "1         Europe      421.0\n",
      "2  North America      273.0\n",
      "3      Australia      238.0\n",
      "4         Africa       25.0\n",
      "5  South America        0.0\n"
     ]
    }
   ],
   "source": [
    "continent_groups = my_df.groupby('Continent')[[\"Confirmed\"]].sum()\n",
    "sort=continent_groups.sort_values(\"Confirmed\", ascending=False)\n",
    "sorted_idx=sort.reset_index()\n",
    "print(sorted_idx)"
   ]
  },
  {
   "cell_type": "code",
   "execution_count": null,
   "metadata": {},
   "outputs": [],
   "source": []
  }
 ],
 "metadata": {
  "kernelspec": {
   "display_name": "Python 3",
   "language": "python",
   "name": "python3"
  },
  "language_info": {
   "codemirror_mode": {
    "name": "ipython",
    "version": 3
   },
   "file_extension": ".py",
   "mimetype": "text/x-python",
   "name": "python",
   "nbconvert_exporter": "python",
   "pygments_lexer": "ipython3",
   "version": "3.7.4"
  }
 },
 "nbformat": 4,
 "nbformat_minor": 2
}
