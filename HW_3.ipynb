{
 "cells": [
  {
   "cell_type": "code",
   "execution_count": 2,
   "metadata": {},
   "outputs": [],
   "source": [
    "# Author: Miguel Meireles\n",
    "# Date: 2020-01-29\n",
    "# CS301-006, Professor Watson\n",
    "# HW## Solution\n",
    "# HW 2\n",
    "# https://github.com/CrazyMiguel/CS301\n",
    "# https://github.com/CrazyMiguel/CS301/blob/master/HW_3%20(4).ipynb\n",
    "# master"
   ]
  },
  {
   "cell_type": "code",
   "execution_count": 123,
   "metadata": {},
   "outputs": [],
   "source": [
    "import pandas as pd    "
   ]
  },
  {
   "cell_type": "code",
   "execution_count": 124,
   "metadata": {},
   "outputs": [],
   "source": [
    "def data_reader(data_path):\n",
    "    try:\n",
    "        frame =pd.read_csv(data_path)\n",
    "        print (\"The shape is: \" )\n",
    "        print(frame.shape)\n",
    "        return frame\n",
    "    except IOError as err:\n",
    "        print (\"Error during reading \" + data_path + \", please try again.\")"
   ]
  },
  {
   "cell_type": "code",
   "execution_count": 125,
   "metadata": {},
   "outputs": [
    {
     "name": "stdout",
     "output_type": "stream",
     "text": [
      "The shape is: \n",
      "(193, 6)\n"
     ]
    }
   ],
   "source": [
    "my = data_reader('C:\\\\Users\\\\Meire\\\\Documents\\\\College\\\\4th year\\\\CS301\\\\drinks.csv')"
   ]
  },
  {
   "cell_type": "code",
   "execution_count": 126,
   "metadata": {},
   "outputs": [
    {
     "name": "stdout",
     "output_type": "stream",
     "text": [
      "Error during reading i_dont_exist.csv, please try again.\n"
     ]
    }
   ],
   "source": [
    "mine = data_reader('i_dont_exist.csv')"
   ]
  },
  {
   "cell_type": "code",
   "execution_count": null,
   "metadata": {},
   "outputs": [],
   "source": []
  },
  {
   "cell_type": "code",
   "execution_count": 127,
   "metadata": {},
   "outputs": [],
   "source": [
    "def get_num_outliers(df,col):\n",
    "    specific = df[col]\n",
    "    #print(specific)\n",
    "    summary = specific.describe()\n",
    "    \n",
    "    q1 = summary.loc[['25%']].iloc[0]\n",
    "    q3 = summary.loc[['75%']].iloc[0]\n",
    "    IQR = q3-q1      #Get Inter Quartile Range\n",
    "    Lowerlimit = q1 - 1.5*IQR     #Set the lower and upper limits to the outliers\n",
    "    Upperlimit = q3 + 1.5*IQR\n",
    "    count= 0\n",
    "    for n in specific:                            #Interate through any list for outliers based on limits \n",
    "        if n < Lowerlimit or n > Upperlimit:\n",
    "            count=count+1\n",
    "    print(count)"
   ]
  },
  {
   "cell_type": "code",
   "execution_count": 128,
   "metadata": {},
   "outputs": [
    {
     "name": "stdout",
     "output_type": "stream",
     "text": [
      "26\n"
     ]
    }
   ],
   "source": [
    "get_num_outliers(my,'wine_servings')"
   ]
  },
  {
   "cell_type": "code",
   "execution_count": 129,
   "metadata": {},
   "outputs": [
    {
     "name": "stdout",
     "output_type": "stream",
     "text": [
      "5\n"
     ]
    }
   ],
   "source": [
    "get_num_outliers(my,'spirit_servings')"
   ]
  },
  {
   "cell_type": "code",
   "execution_count": 130,
   "metadata": {},
   "outputs": [
    {
     "name": "stdout",
     "output_type": "stream",
     "text": [
      "0\n"
     ]
    }
   ],
   "source": [
    "get_num_outliers(my,'beer_servings')"
   ]
  },
  {
   "cell_type": "code",
   "execution_count": 131,
   "metadata": {},
   "outputs": [
    {
     "name": "stdout",
     "output_type": "stream",
     "text": [
      "0\n"
     ]
    }
   ],
   "source": [
    "get_num_outliers(my,'total_litres_of_pure_alcohol')"
   ]
  },
  {
   "cell_type": "code",
   "execution_count": 132,
   "metadata": {},
   "outputs": [],
   "source": [
    "def get_num_deviants(df,col,multiplier):\n",
    "    specific = df[col]\n",
    "    summary = specific.describe()\n",
    "    std = summary.loc[['std']].iloc[0]\n",
    "    mean = summary.loc[['mean']].iloc[0]\n",
    "    count= 0\n",
    "    for n in specific:                            #Interate through any list for outliers based on limits \n",
    "        if ((n-mean)/std)>multiplier:\n",
    "            count=count+1\n",
    "    print(count)"
   ]
  },
  {
   "cell_type": "code",
   "execution_count": 133,
   "metadata": {},
   "outputs": [
    {
     "name": "stdout",
     "output_type": "stream",
     "text": [
      "28\n"
     ]
    }
   ],
   "source": [
    "get_num_deviants(my, 'wine_servings', 1)"
   ]
  },
  {
   "cell_type": "code",
   "execution_count": 134,
   "metadata": {},
   "outputs": [
    {
     "name": "stdout",
     "output_type": "stream",
     "text": [
      "15\n"
     ]
    }
   ],
   "source": [
    "get_num_deviants(my, 'wine_servings', 2)"
   ]
  },
  {
   "cell_type": "code",
   "execution_count": 135,
   "metadata": {},
   "outputs": [
    {
     "name": "stdout",
     "output_type": "stream",
     "text": [
      "38\n"
     ]
    }
   ],
   "source": [
    "get_num_deviants(my, 'beer_servings', 1)"
   ]
  },
  {
   "cell_type": "code",
   "execution_count": 136,
   "metadata": {},
   "outputs": [
    {
     "name": "stdout",
     "output_type": "stream",
     "text": [
      "8\n"
     ]
    }
   ],
   "source": [
    "get_num_deviants(my, 'beer_servings', 2)"
   ]
  },
  {
   "cell_type": "code",
   "execution_count": null,
   "metadata": {},
   "outputs": [],
   "source": []
  }
 ],
 "metadata": {
  "kernelspec": {
   "display_name": "Python 3",
   "language": "python",
   "name": "python3"
  },
  "language_info": {
   "codemirror_mode": {
    "name": "ipython",
    "version": 3
   },
   "file_extension": ".py",
   "mimetype": "text/x-python",
   "name": "python",
   "nbconvert_exporter": "python",
   "pygments_lexer": "ipython3",
   "version": "3.7.4"
  }
 },
 "nbformat": 4,
 "nbformat_minor": 2
}
